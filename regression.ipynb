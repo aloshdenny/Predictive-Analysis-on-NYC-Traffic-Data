{
 "cells": [
  {
   "cell_type": "code",
   "execution_count": null,
   "metadata": {},
   "outputs": [],
   "source": [
    "import pandas as pd\n",
    "from sklearn.linear_model import LinearRegression\n",
    "\n",
    "# Read the datasets for 2021 and 2022\n",
    "df_2021 = pd.read_parquet(\"Dataset/2021.parquet\")\n",
    "df_2022 = pd.read_parquet(\"Dataset/2022.parquet\")\n",
    "\n",
    "def preprocess_data(df, year):\n",
    "    df['pickup_datetime'] = pd.to_datetime(df['pickup_datetime'])\n",
    "    daily_data = df.groupby(df['pickup_datetime'].dt.date)[['driver_pay', 'trip_miles']].sum().reset_index()\n",
    "    daily_data['year'] = year\n",
    "    return daily_data\n",
    "\n",
    "# Preprocess the data for each year\n",
    "data_2021 = preprocess_data(df_2021, 2021)\n",
    "data_2022 = preprocess_data(df_2022, 2022)\n",
    "\n",
    "# Concatenate the data for both years\n",
    "combined_data = pd.concat([data_2021, data_2022], ignore_index=True)\n",
    "\n",
    "# Calculate the average for each day across both years\n",
    "average_data = combined_data.groupby(combined_data['pickup_datetime']).mean().reset_index()\n",
    "\n",
    "# Create a date range for the year 2023\n",
    "date_range_2023 = pd.date_range(start='2023-01-01', end='2023-12-31', freq='D')\n",
    "\n",
    "# Repeat the average data for each day in 2023\n",
    "predictions_2023 = pd.DataFrame({'pickup_datetime': date_range_2023})\n",
    "predictions_2023 = pd.concat([predictions_2023] * len(average_data), ignore_index=True)\n",
    "\n",
    "# Assign the average values to the 'driver_pay' and 'trip_miles' columns\n",
    "predictions_2023['driver_pay'] = average_data['driver_pay'].repeat(len(date_range_2023))\n",
    "predictions_2023['trip_miles'] = average_data['trip_miles'].repeat(len(date_range_2023))\n",
    "\n",
    "# Train a Linear Regression model\n",
    "X = combined_data[combined_data.drop['driver_pay', 'trip_miles']] # The independent variables\n",
    "y = combined_data['driver_pay', 'trip_miles']  # Assuming the driver_pay and trip_miles is the target variable for prediction\n",
    "\n",
    "model = LinearRegression()\n",
    "model.fit(X, y)\n",
    "\n",
    "# Predict the year for 2023 based on driver_pay and trip_miles\n",
    "X_2023 = predictions_2023[['driver_pay', 'trip_miles']]\n",
    "predictions_2023['predicted_year'] = model.predict(X_2023)\n",
    "\n",
    "# Save the predictions to a Parquet file\n",
    "predictions_2023.to_parquet(\"Dataset/2023.parquet\")"
   ]
  }
 ],
 "metadata": {
  "kernelspec": {
   "display_name": "tf",
   "language": "python",
   "name": "python3"
  },
  "language_info": {
   "codemirror_mode": {
    "name": "ipython",
    "version": 3
   },
   "file_extension": ".py",
   "mimetype": "text/x-python",
   "name": "python",
   "nbconvert_exporter": "python",
   "pygments_lexer": "ipython3",
   "version": "3.10.11"
  }
 },
 "nbformat": 4,
 "nbformat_minor": 2
}
