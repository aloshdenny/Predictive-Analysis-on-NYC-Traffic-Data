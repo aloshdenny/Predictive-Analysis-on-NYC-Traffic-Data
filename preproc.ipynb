{
 "cells": [
  {
   "cell_type": "markdown",
   "metadata": {},
   "source": [
    "CLEANING COLUMNS"
   ]
  },
  {
   "cell_type": "code",
   "execution_count": null,
   "metadata": {},
   "outputs": [],
   "source": [
    "import pandas as pd\n",
    "\n",
    "dtype_dict = {\n",
    "    'hvfhs_license_num': 'object',\n",
    "    'dispatching_base_num': 'object',\n",
    "    'originating_base_num': 'object',\n",
    "    'request_datetime': 'object',\n",
    "    'on_scene_datetime': 'object',\n",
    "    'pickup_datetime': 'object',\n",
    "    'dropoff_datetime': 'object',\n",
    "    'PULocationID': 'float64',\n",
    "    'DOLocationID': 'float64',\n",
    "    'trip_miles': 'float64',\n",
    "    'trip_time': 'float64',\n",
    "    'base_passenger_fare': 'float64',\n",
    "    'tolls': 'float64',\n",
    "    'bcf': 'float64',\n",
    "    'sales_tax': 'float64',\n",
    "    'congestion_surcharge': 'float64',\n",
    "    'airport_fee': 'float64',\n",
    "    'tips': 'float64',\n",
    "    'driver_pay': 'float64',\n",
    "    'shared_request_flag': 'object',\n",
    "    'shared_match_flag': 'object',\n",
    "    'access_a_ride_flag': 'object',\n",
    "    'wav_request_flag': 'object',\n",
    "    'wav_match_flag': 'object'\n",
    "}\n",
    "\n",
    "sampled_chunks = []\n",
    "\n",
    "file_path = \"./2021 Dataset/2021.csv\"\n",
    "\n",
    "sampling_fraction = 0.25\n",
    "\n",
    "for chunk in pd.read_csv(file_path, dtype=dtype_dict, chunksize=1000000):\n",
    "    sampled_chunk = chunk.sample(frac=sampling_fraction)\n",
    "    sampled_chunks.append(sampled_chunk)\n",
    "\n",
    "reduced_dataset = pd.concat(sampled_chunks, ignore_index=True)\n",
    "\n",
    "reduced_dataset.to_csv(\"./2021 Dataset/reduced_2021.csv\", index=False)\n",
    "\n",
    "print(\"Reduced dataset created and saved successfully.\")"
   ]
  },
  {
   "cell_type": "code",
   "execution_count": null,
   "metadata": {},
   "outputs": [],
   "source": [
    "import pandas as pd\n",
    "import multiprocessing as mp\n",
    "import warnings\n",
    "warnings.filterwarnings(\"ignore\")\n",
    "\n",
    "dtype_dict = {\n",
    "    'hvfhs_license_num': 'object',\n",
    "    'dispatching_base_num': 'object',\n",
    "    'originating_base_num': 'object',\n",
    "    'request_datetime': 'object',\n",
    "    'on_scene_datetime': 'object',\n",
    "    'pickup_datetime': 'object',\n",
    "    'dropoff_datetime': 'object',\n",
    "    'PULocationID': 'float64',\n",
    "    'DOLocationID': 'float64',\n",
    "    'trip_miles': 'float64',\n",
    "    'trip_time': 'float64',\n",
    "    'base_passenger_fare': 'float64',\n",
    "    'tolls': 'float64',\n",
    "    'bcf': 'float64',\n",
    "    'sales_tax': 'float64',\n",
    "    'congestion_surcharge': 'float64',\n",
    "    'airport_fee': 'float64',\n",
    "    'tips': 'float64',\n",
    "    'driver_pay': 'float64',\n",
    "    'shared_request_flag': 'object',\n",
    "    'shared_match_flag': 'object',\n",
    "    'access_a_ride_flag': 'object',\n",
    "    'wav_request_flag': 'object',\n",
    "    'wav_match_flag': 'object'\n",
    "}\n",
    "\n",
    "df = pd.read_csv(\"./2021 Dataset/reduced_2021.csv\", dtype=dtype_dict)\n",
    "df"
   ]
  },
  {
   "cell_type": "code",
   "execution_count": null,
   "metadata": {},
   "outputs": [],
   "source": [
    "def get_start_end_dates(df):\n",
    "\n",
    "    df['pickup_datetime'] = pd.to_datetime(df['pickup_datetime'])\n",
    "    start_date = df['pickup_datetime'].min().strftime('%d-%m-%Y')\n",
    "    end_date = df['pickup_datetime'].max().strftime('%d-%m-%Y')\n",
    "    return (start_date, end_date)\n",
    "\n",
    "start_date, end_date = get_start_end_dates(df)\n",
    "print(f\"Start Date: {start_date}\")\n",
    "print(f\"End Date: {end_date}\")"
   ]
  },
  {
   "cell_type": "code",
   "execution_count": null,
   "metadata": {},
   "outputs": [],
   "source": [
    "df.tail(10)"
   ]
  },
  {
   "cell_type": "code",
   "execution_count": null,
   "metadata": {},
   "outputs": [],
   "source": [
    "df.info()"
   ]
  },
  {
   "cell_type": "code",
   "execution_count": null,
   "metadata": {},
   "outputs": [],
   "source": [
    "print(len(df.index))"
   ]
  },
  {
   "cell_type": "code",
   "execution_count": null,
   "metadata": {},
   "outputs": [],
   "source": [
    "df_with_nan = df[df.isnull().any(axis=1)]\n",
    "print(len(df_with_nan))"
   ]
  },
  {
   "cell_type": "code",
   "execution_count": null,
   "metadata": {},
   "outputs": [],
   "source": [
    "df = df.drop(columns=['dispatching_base_num', 'on_scene_datetime', 'request_datetime', 'trip_time', 'originating_base_num', 'tolls', 'sales_tax', 'congestion_surcharge', 'airport_fee', 'shared_request_flag', 'shared_match_flag', 'tips', 'bcf', 'airport_fee', 'access_a_ride_flag', 'wav_request_flag', 'wav_match_flag', 'base_passenger_fare'])\n",
    "df.info()"
   ]
  },
  {
   "cell_type": "code",
   "execution_count": null,
   "metadata": {},
   "outputs": [],
   "source": [
    "df"
   ]
  },
  {
   "cell_type": "code",
   "execution_count": null,
   "metadata": {},
   "outputs": [],
   "source": [
    "# df = df.iloc[:12626810]\n",
    "# df.tail(100)"
   ]
  },
  {
   "cell_type": "code",
   "execution_count": null,
   "metadata": {},
   "outputs": [],
   "source": [
    "df.to_csv(\"./2021 Dataset/cleaned_columns.csv\", sep=',')"
   ]
  },
  {
   "cell_type": "markdown",
   "metadata": {},
   "source": [
    "CLEANING ROWS"
   ]
  },
  {
   "cell_type": "code",
   "execution_count": null,
   "metadata": {},
   "outputs": [],
   "source": [
    "import pandas as pd\n",
    "df = pd.read_csv(\"./2021 Dataset/cleaned_columns.csv\", delimiter=\",\")"
   ]
  },
  {
   "cell_type": "code",
   "execution_count": null,
   "metadata": {},
   "outputs": [],
   "source": [
    "df = df[~((df['PULocationID'].isin([264, 265])) | (df['DOLocationID'].isin([264, 265])))]\n",
    "df"
   ]
  },
  {
   "cell_type": "code",
   "execution_count": null,
   "metadata": {},
   "outputs": [],
   "source": [
    "print(sorted(df['PULocationID'].unique()))"
   ]
  },
  {
   "cell_type": "code",
   "execution_count": null,
   "metadata": {},
   "outputs": [],
   "source": [
    "print(sorted(df['DOLocationID'].unique()))"
   ]
  },
  {
   "cell_type": "code",
   "execution_count": null,
   "metadata": {},
   "outputs": [],
   "source": [
    "df.isnull().sum()"
   ]
  },
  {
   "cell_type": "code",
   "execution_count": null,
   "metadata": {},
   "outputs": [],
   "source": [
    "df.info()"
   ]
  },
  {
   "cell_type": "code",
   "execution_count": null,
   "metadata": {},
   "outputs": [],
   "source": [
    "import pandas as pd\n",
    "\n",
    "taxi_zones = pd.read_csv(\"./taxi_zones.csv\", delimiter=\",\")\n",
    "\n",
    "df = pd.merge(df, taxi_zones, how='left', left_on='PULocationID', right_on='LocationID')\\\n",
    "        .rename(columns={'zone': 'PUZone', 'borough': 'PUBorough', 'LocationID': 'PULocationID_merged'})\n",
    "\n",
    "df.drop(['PULocationID_merged'], axis=1, inplace=True)\n",
    "\n",
    "df = pd.merge(df, taxi_zones, how='left', left_on='DOLocationID', right_on='LocationID')\\\n",
    "        .rename(columns={'zone': 'DOZone', 'borough': 'DOBorough', 'LocationID': 'DOLocationID_merged'})\n",
    "\n",
    "df.drop(['DOLocationID_merged'], axis=1, inplace=True)\n",
    "df['PULocationID'] = pd.to_numeric(df['PULocationID'], downcast='integer')\n",
    "df['DOLocationID'] = pd.to_numeric(df['DOLocationID'], downcast='integer')\n",
    "df = df.drop(columns=['Unnamed: 0'])\n",
    "df = df.reset_index(drop=True)\n",
    "df"
   ]
  },
  {
   "cell_type": "code",
   "execution_count": null,
   "metadata": {},
   "outputs": [],
   "source": [
    "df.to_csv(\"./2021 Dataset/cleaned_mapped.csv\",  sep=',')"
   ]
  },
  {
   "cell_type": "markdown",
   "metadata": {},
   "source": [
    "VISUALIZING NEW YORK CITY"
   ]
  },
  {
   "cell_type": "code",
   "execution_count": null,
   "metadata": {},
   "outputs": [],
   "source": [
    "!pip install geopandas matplotlib contextily\n",
    "!pip install --upgrade pip"
   ]
  },
  {
   "cell_type": "code",
   "execution_count": null,
   "metadata": {},
   "outputs": [],
   "source": [
    "import geopandas as gpd\n",
    "import matplotlib.pyplot as plt\n",
    "\n",
    "gdf = gpd.read_file(\"./taxi_zones.zip\")\n",
    "\n",
    "fig, ax = plt.subplots(figsize=(20, 20))\n",
    "gdf.plot(ax=ax, alpha=0.4, edgecolor='k')\n",
    "\n",
    "import contextily as ctx\n",
    "ctx.add_basemap(ax, crs=gdf.crs.to_string(), source=ctx.providers.CartoDB.Positron)\n",
    "\n",
    "plt.show()"
   ]
  },
  {
   "cell_type": "markdown",
   "metadata": {},
   "source": [
    "VISUALIZING THE BOROUGHS OF NEW YORK CITY"
   ]
  },
  {
   "cell_type": "code",
   "execution_count": null,
   "metadata": {},
   "outputs": [],
   "source": [
    "print(gdf['borough'].unique())"
   ]
  },
  {
   "cell_type": "code",
   "execution_count": null,
   "metadata": {},
   "outputs": [],
   "source": [
    "borough_counts = gdf['borough'].value_counts()\n",
    "print(\"Zones by Borough:\\n\", borough_counts)"
   ]
  },
  {
   "cell_type": "code",
   "execution_count": null,
   "metadata": {},
   "outputs": [],
   "source": [
    "import contextily as ctx\n",
    "\n",
    "unique_boroughs = gdf['borough'].unique()\n",
    "\n",
    "for borough in unique_boroughs:\n",
    "    borough_zones = gdf[gdf['borough'] == borough]\n",
    "    \n",
    "    fig, ax = plt.subplots(figsize=(20, 20))\n",
    "    borough_zones.plot(ax=ax, alpha=0.5, edgecolor='k')\n",
    "    \n",
    "    ctx.add_basemap(ax, crs=borough_zones.crs.to_string(), source=ctx.providers.CartoDB.Positron)\n",
    "    \n",
    "    ax.set_title(f\"{borough} Taxi Zones\")\n",
    "    \n",
    "    plt.show()"
   ]
  },
  {
   "cell_type": "code",
   "execution_count": null,
   "metadata": {},
   "outputs": [],
   "source": [
    "print(gdf.info())\n",
    "print(gdf.columns)"
   ]
  },
  {
   "cell_type": "code",
   "execution_count": null,
   "metadata": {},
   "outputs": [],
   "source": [
    "import pandas as pd\n",
    "df = pd.read_csv(\"./2021 Dataset/cleaned_mapped.csv\", delimiter=\",\")\n",
    "df"
   ]
  },
  {
   "cell_type": "code",
   "execution_count": null,
   "metadata": {},
   "outputs": [],
   "source": [
    "print(df.columns)"
   ]
  },
  {
   "cell_type": "code",
   "execution_count": null,
   "metadata": {},
   "outputs": [],
   "source": [
    "from shapely.geometry import LineString\n",
    "\n",
    "gdf['centroid'] = gdf.centroid\n",
    "\n",
    "location_to_centroid = gdf.set_index('LocationID')['centroid'].to_dict()\n",
    "\n",
    "df_filtered = df[df['PULocationID'].isin(location_to_centroid.keys()) & df['DOLocationID'].isin(location_to_centroid.keys())]\n",
    "\n",
    "df['line'] = df_filtered.apply(lambda row: LineString([location_to_centroid[row['PULocationID']], location_to_centroid[row['DOLocationID']]]), axis=1)\n",
    "\n",
    "lines_gdf = gpd.GeoDataFrame(df, geometry='line', crs=gdf.crs)"
   ]
  },
  {
   "cell_type": "markdown",
   "metadata": {},
   "source": [
    "PASSENGER FLOW FOR 2022 NYC (ALL BRANDS)"
   ]
  },
  {
   "cell_type": "code",
   "execution_count": null,
   "metadata": {},
   "outputs": [],
   "source": [
    "fig, ax = plt.subplots(figsize=(1000, 1000))\n",
    "gdf.plot(ax=ax, alpha=0.4, edgecolor='k')\n",
    "lines_gdf.plot(ax=ax, linewidth=1, color='red')\n",
    "\n",
    "ctx.add_basemap(ax, crs=gdf.crs.to_string(), source=ctx.providers.CartoDB.Positron)\n",
    "plt.show()"
   ]
  },
  {
   "cell_type": "markdown",
   "metadata": {},
   "source": [
    "VISUALIZING HEATMAP FOR NYC TRIPS 2022"
   ]
  },
  {
   "cell_type": "code",
   "execution_count": null,
   "metadata": {},
   "outputs": [],
   "source": [
    "import pandas as pd\n",
    "import seaborn as sns\n",
    "import matplotlib.pyplot as plt\n",
    "\n",
    "trip_counts = df.groupby(['PULocationID', 'DOLocationID']).size().reset_index(name='TripCount')\n",
    "\n",
    "pivot_table = trip_counts.pivot('PULocationID', 'DOLocationID', 'TripCount')\n",
    "\n",
    "plt.figure(figsize=(50, 50))\n",
    "sns.heatmap(pivot_table, cmap='Reds', linewidths=.5)\n",
    "\n",
    "plt.title('Heatmap of Trips between Pickup and Drop-off Locations')\n",
    "plt.xlabel('Drop-off Location ID')\n",
    "plt.ylabel('Pickup Location ID')\n",
    "plt.show()\n"
   ]
  },
  {
   "cell_type": "markdown",
   "metadata": {},
   "source": [
    "MOST TRAVELLED AND LEAST TRAVELLED ROUTES IN NYC 2022"
   ]
  },
  {
   "cell_type": "code",
   "execution_count": null,
   "metadata": {},
   "outputs": [],
   "source": [
    "df_filtered = df[df['PULocationID'] != df['DOLocationID']]\n",
    "\n",
    "trip_counts_filtered = df_filtered.groupby(['PULocationID', 'DOLocationID']).size().reset_index(name='TripCount')\n",
    "\n",
    "most_traveled_filtered = trip_counts_filtered.loc[trip_counts_filtered['TripCount'].idxmax()]\n",
    "\n",
    "least_traveled_filtered = trip_counts_filtered.loc[trip_counts_filtered['TripCount'].idxmin()]\n",
    "\n",
    "print(\"Most Traveled Trip Line:\")\n",
    "print(most_traveled_filtered)\n",
    "\n",
    "print(\"Least Traveled Trip Line:\")\n",
    "# Doesn't really matter much\n",
    "print(least_traveled_filtered)"
   ]
  },
  {
   "cell_type": "markdown",
   "metadata": {},
   "source": [
    "MOST COMMON PICKUP AND DROPOFF LOCATIONS"
   ]
  },
  {
   "cell_type": "code",
   "execution_count": null,
   "metadata": {},
   "outputs": [],
   "source": [
    "most_common_dolocation_id = df['DOLocationID'].value_counts().idxmax()\n",
    "most_common_pulocation_id = df['PULocationID'].value_counts().idxmax()\n",
    "\n",
    "most_common_dolocation_count = df['DOLocationID'].value_counts().max()\n",
    "most_common_pulocation_count = df['PULocationID'].value_counts().max()\n",
    "\n",
    "most_common_pulocation_name = df[df['PULocationID'] == most_common_pulocation_id]['PUZone'].iloc[0]\n",
    "most_common_dolocation_name = df[df['DOLocationID'] == most_common_dolocation_id]['DOZone'].iloc[0]\n",
    "\n",
    "print(f\"The most common pick-up location is {most_common_pulocation_name} (ID {most_common_pulocation_id}) : {most_common_pulocation_count}.\")\n",
    "print(f\"The most common drop-off location is {most_common_dolocation_name} (ID {most_common_dolocation_id}) : {most_common_dolocation_count}.\")"
   ]
  },
  {
   "cell_type": "markdown",
   "metadata": {},
   "source": [
    "SPLITTING THE DATASET INTO BRAND-WISE SUBSETS"
   ]
  },
  {
   "cell_type": "code",
   "execution_count": null,
   "metadata": {},
   "outputs": [],
   "source": [
    "import pandas as pd\n",
    "df = pd.read_parquet(\"./2021 Dataset/cleaned_mapped.csv\", delimiter=\",\")\n",
    "df.drop(['Unnamed: 0'], axis=1, inplace=True)\n",
    "df"
   ]
  },
  {
   "cell_type": "code",
   "execution_count": null,
   "metadata": {},
   "outputs": [],
   "source": [
    "df['hvfhs_license_num'].unique()"
   ]
  },
  {
   "cell_type": "code",
   "execution_count": null,
   "metadata": {},
   "outputs": [],
   "source": [
    "df_hv0003 = df[df['hvfhs_license_num'] == 'HV0003']\n",
    "df_hv0003.drop(columns=['hvfhs_license_num'], inplace=True)\n",
    "df_hv0005 = df[df['hvfhs_license_num'] == 'HV0005']\n",
    "df_hv0005.drop(columns=['hvfhs_license_num'], inplace=True)"
   ]
  },
  {
   "cell_type": "code",
   "execution_count": null,
   "metadata": {},
   "outputs": [],
   "source": [
    "df_hv0003"
   ]
  },
  {
   "cell_type": "code",
   "execution_count": null,
   "metadata": {},
   "outputs": [],
   "source": [
    "df_hv0005"
   ]
  },
  {
   "cell_type": "code",
   "execution_count": null,
   "metadata": {},
   "outputs": [],
   "source": [
    "df_hv0003.to_parquet(\"./2021 Dataset/Uber.parquet\")\n",
    "df_hv0005.to_parquet(\"./2021 Dataset/Lyft.parquet\")\n",
    "df.to_parquet(\"./2021 Dataset/Uber+Lyft.parquet\")"
   ]
  },
  {
   "cell_type": "code",
   "execution_count": 1,
   "metadata": {},
   "outputs": [
    {
     "name": "stdout",
     "output_type": "stream",
     "text": [
      "<class 'pandas.core.frame.DataFrame'>\n",
      "Index: 11429380 entries, 0 to 42066327\n",
      "Data columns (total 10 columns):\n",
      " #   Column            Dtype  \n",
      "---  ------            -----  \n",
      " 0   pickup_datetime   object \n",
      " 1   dropoff_datetime  object \n",
      " 2   PULocationID      int64  \n",
      " 3   DOLocationID      int64  \n",
      " 4   trip_miles        float64\n",
      " 5   driver_pay        float64\n",
      " 6   PUZone            object \n",
      " 7   PUBorough         object \n",
      " 8   DOZone            object \n",
      " 9   DOBorough         object \n",
      "dtypes: float64(2), int64(2), object(6)\n",
      "memory usage: 959.2+ MB\n"
     ]
    }
   ],
   "source": [
    "import pandas as pd\n",
    "df = pd.read_parquet(\"2021 Dataset\\Lyft.parquet\")\n",
    "df.info()"
   ]
  }
 ],
 "metadata": {
  "kernelspec": {
   "display_name": "tf",
   "language": "python",
   "name": "python3"
  },
  "language_info": {
   "codemirror_mode": {
    "name": "ipython",
    "version": 3
   },
   "file_extension": ".py",
   "mimetype": "text/x-python",
   "name": "python",
   "nbconvert_exporter": "python",
   "pygments_lexer": "ipython3",
   "version": "3.10.11"
  }
 },
 "nbformat": 4,
 "nbformat_minor": 2
}
